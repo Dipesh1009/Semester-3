{
 "cells": [
  {
   "cell_type": "code",
   "execution_count": 3,
   "id": "95843b4a",
   "metadata": {},
   "outputs": [
    {
     "name": "stdout",
     "output_type": "stream",
     "text": [
      "44\n",
      "29\n",
      "34\n"
     ]
    }
   ],
   "source": [
    "print(4 * (6 + 5))\n",
    "print(4 * 6 + 5)\n",
    "print (4 + 6 * 5)"
   ]
  },
  {
   "cell_type": "code",
   "execution_count": 4,
   "id": "aa146c39",
   "metadata": {},
   "outputs": [
    {
     "data": {
      "text/plain": [
       "float"
      ]
     },
     "execution_count": 4,
     "metadata": {},
     "output_type": "execute_result"
    }
   ],
   "source": [
    "sum = 3+1.5+4\n",
    "type(sum)"
   ]
  },
  {
   "cell_type": "code",
   "execution_count": 1,
   "id": "ba9b79d3",
   "metadata": {},
   "outputs": [
    {
     "name": "stdout",
     "output_type": "stream",
     "text": [
      "The sum is: 2.0\n"
     ]
    }
   ],
   "source": [
    "a = input(\"Enter a number: \")\n",
    "b = input(\"Enter another number: \")\n",
    "print(\"The sum is:\", float(a) + float(b))"
   ]
  },
  {
   "cell_type": "code",
   "execution_count": 2,
   "id": "b0798340",
   "metadata": {},
   "outputs": [
    {
     "name": "stdout",
     "output_type": "stream",
     "text": [
      "The sum of complex numbers is: (5+7j)\n"
     ]
    }
   ],
   "source": [
    "a = 3 + 3j\n",
    "b = 2 + 4j\n",
    "print(\"The sum of complex numbers is:\", a + b)\n"
   ]
  },
  {
   "cell_type": "code",
   "execution_count": 5,
   "id": "8a6bb545",
   "metadata": {},
   "outputs": [
    {
     "name": "stdout",
     "output_type": "stream",
     "text": [
      "The decimal value is:  511\n",
      "The decimal value is:  510\n",
      "The decimal value is:  591\n"
     ]
    }
   ],
   "source": [
    "#write a program to convert numbers of octal, hexadecimal and binary to decimal\n",
    "\n",
    "a = input(\"Enter a number in octal: \")\n",
    "b = int(a, 8)\n",
    "print (\"The decimal value is: \", b)\n",
    "a = input(\"Enter a number in hexadecimal: \")\n",
    "b = int(a, 16)\n",
    "print(\"The decimal value is: \", b)\n",
    "a = input(\"Enter a number in binary: \")\n",
    "b = int(a, 2)\n",
    "print(\"The decimal value is: \", b)"
   ]
  },
  {
   "cell_type": "code",
   "execution_count": 8,
   "id": "9db0ee70",
   "metadata": {},
   "outputs": [
    {
     "name": "stdout",
     "output_type": "stream",
     "text": [
      "the square root of  3.0  is  1.7320508075688772\n"
     ]
    }
   ],
   "source": [
    "#Write a Python Program to find a number’s square root, as well as its Square\n",
    "\n",
    "import math\n",
    "a = float(input(\"Enter a number: \"))\n",
    "print(\"the square root of \", a, \" is \", math.sqrt(a))"
   ]
  },
  {
   "cell_type": "code",
   "execution_count": null,
   "id": "c10c699d",
   "metadata": {},
   "outputs": [],
   "source": [
    "#Write a Python Program to find product of two numbers using command line arguments\n",
    "\n",
    "#python command line script\n",
    "#python file.py script.py <num1> <num2>\n",
    "\n",
    "#program starts\n",
    "import sys\n",
    "\n",
    "if len(sys.argv) != 4:\n",
    "    print(\"Usage: python <file>.py script.py <num1> <num2>\")\n",
    "else:\n",
    "    num1 = float(sys.argv[2])\n",
    "    num2 = float(sys.argv[3])\n",
    "    product = num1 * num2\n",
    "    print(\"The product of \", num1, \" and \", num2, \" is \", product)"
   ]
  },
  {
   "cell_type": "code",
   "execution_count": 20,
   "id": "4821bb02",
   "metadata": {},
   "outputs": [
    {
     "name": "stdout",
     "output_type": "stream",
     "text": [
      "The character at index 1 is : e\n"
     ]
    }
   ],
   "source": [
    "#Given the string 'hello', write a Python Program that returns alphabet ‘e’. (Use indexing)\n",
    "\n",
    "s = \"hello\"\n",
    "print (\"The character at index 1 is :\", s[1])"
   ]
  },
  {
   "cell_type": "code",
   "execution_count": 21,
   "id": "ce7f34e9",
   "metadata": {},
   "outputs": [
    {
     "name": "stdout",
     "output_type": "stream",
     "text": [
      "The reversed string is: olleh\n"
     ]
    }
   ],
   "source": [
    "# Write a Python Program to reverse the string 'hello' using slicing.\n",
    "\n",
    "s = \"hello\"\n",
    "print(\"The reversed string is:\", s[::-1])"
   ]
  },
  {
   "cell_type": "code",
   "execution_count": 24,
   "id": "2d1671e5",
   "metadata": {},
   "outputs": [
    {
     "name": "stdout",
     "output_type": "stream",
     "text": [
      "The last character using indexing is: o\n",
      "The last character using slicing is: o\n"
     ]
    }
   ],
   "source": [
    "# Given the string ‘hello’, use two different methods for returning the letter 'o'.\n",
    "\n",
    "s = \"hello\" \n",
    "print(\"The last character using indexing is:\", s[4])\n",
    "print(\"The last character using slicing is:\", s[-1])\n"
   ]
  },
  {
   "cell_type": "code",
   "execution_count": 26,
   "id": "a4df8f48",
   "metadata": {},
   "outputs": [
    {
     "name": "stdout",
     "output_type": "stream",
     "text": [
      "The string is not a palindrome.\n"
     ]
    }
   ],
   "source": [
    "# Write a Python Program that takes a string input and finds whether the string is a palindrome or not.\n",
    "\n",
    "s = input (\"Enter a string:\")\n",
    "if s == s[::-1]:\n",
    "    print(\"The string is a palindrome.\")\n",
    "else:\n",
    "    print(\"The string is not a palindrome.\")"
   ]
  },
  {
   "cell_type": "code",
   "execution_count": 27,
   "id": "c90bd675",
   "metadata": {},
   "outputs": [
    {
     "name": "stdout",
     "output_type": "stream",
     "text": [
      "word\n",
      "in\n",
      "this\n",
      "sentence\n",
      "that\n",
      "an\n",
      "even\n",
      "number\n",
      "of\n"
     ]
    }
   ],
   "source": [
    "# Go through the string below and print the word if the length of word is even.\n",
    "\n",
    "st = 'Print every word in this sentence that has an even number of letters'\n",
    "words = st.split()\n",
    "for word in words:\n",
    "    if len(word) % 2 == 0:\n",
    "        print(word)"
   ]
  },
  {
   "cell_type": "code",
   "execution_count": 32,
   "id": "a1ee0518",
   "metadata": {},
   "outputs": [
    {
     "name": "stdout",
     "output_type": "stream",
     "text": [
      "COLD!\n",
      "WARMER!\n",
      "WARMER!\n",
      "WARMER!\n",
      "COLDER!\n",
      "WARMER!\n",
      "WARMER!\n",
      "WARMER!\n",
      "WARMER!\n",
      "Congratulations! You've guessed the number 74 correctly in 10 attempts.\n"
     ]
    }
   ],
   "source": [
    "# Write a program that picks a random integer from 1 to 100, and has players guess the number. The rules are:\n",
    "# i. If a player's guess is less than 1 or greater than 100, print \"OUT OF BOUNDS”.\n",
    "# ii. On a player's first turn, if their guess is\n",
    "#   a. Within the range of (+ or -) 10 of the number, return \"WARM!”.\n",
    "#   b. Farther than 10 away from the number, return \"COLD!”.\n",
    "# iii. On all subsequent turns, if a guess is\n",
    "#   a. Closer to the number than the previous guess, return\"WARMER!”.\n",
    "#   b. Farther from the number than the previous guess, return\"COLDER”.\n",
    "# iv. When the player's guess equals the number, tell them that they have guessed correctly and how many guesses it took.\n",
    "\n",
    "import random \n",
    "\n",
    "def guess_the_number():\n",
    "    number = random.randint(1, 100)\n",
    "    previous_guess = None\n",
    "\n",
    "    attempts = 0\n",
    "    while True:\n",
    "        guess = int(input(\"Enter your guess (between 1 and 100):\"))\n",
    "        attempts += 1\n",
    "        if guess < 1 or guess > 100:\n",
    "            print(\"Out of Bounds\")\n",
    "            continue\n",
    "        if guess == number:\n",
    "            print(f\"Congratulations! You've guessed the number {number} correctly in {attempts} attempts.\")\n",
    "            break\n",
    "        if previous_guess is None:\n",
    "            if (abs(guess - number) <= 10):\n",
    "                print(\"WARM!\")\n",
    "            else:\n",
    "                print(\"COLD!\")\n",
    "        else:\n",
    "            if abs(guess - number) < abs(previous_guess - number):\n",
    "                print(\"WARMER!\")\n",
    "            else:\n",
    "                print(\"COLDER!\")\n",
    "        \n",
    "        previous_guess = guess\n",
    "\n",
    "guess_the_number()\n"
   ]
  },
  {
   "cell_type": "code",
   "execution_count": 37,
   "id": "ead4e1d0",
   "metadata": {},
   "outputs": [
    {
     "name": "stdout",
     "output_type": "stream",
     "text": [
      "Player 1 wins!\n",
      "Player 1 wins!\n"
     ]
    }
   ],
   "source": [
    "# Make a two-player Rock-Paper-Scissors game. (Hint: Ask for player plays (using input), compare them, print out a message of congratulations to the winner, and ask if the players want to start a new game)\n",
    "# Remember the rules:\n",
    "# • Rock beats scissors\n",
    "# • Scissors beats paper\n",
    "# • Paper beats rock\n",
    "\n",
    "def rock_paper_scissors():\n",
    "    while True:\n",
    "        player1 = input(\"Player 1, enter your choice (rock, paper, scissors): \").lower()\n",
    "        player2 = input(\"Player 2, enter your choice (rock, paper, scissors): \").lower()\n",
    "\n",
    "        if player1 == player2:\n",
    "            print(\"It's a tie!\")\n",
    "        elif (player1 == \"rock\" and player2 == \"scissors\") or \\\n",
    "             (player1 == \"scissors\" and player2 == \"paper\") or \\\n",
    "             (player1 == \"paper\" and player2 == \"rock\"):\n",
    "            print(\"Player 1 wins!\")\n",
    "        else: \n",
    "            print(\"Player 2 wins!\")\n",
    "        play_again = input (\"Do you want to play again? (y/n): \").lower()\n",
    "        if play_again != 'y':\n",
    "            break\n",
    "\n",
    "rock_paper_scissors()            \n"
   ]
  },
  {
   "cell_type": "code",
   "execution_count": 38,
   "id": "29e75d36",
   "metadata": {},
   "outputs": [
    {
     "name": "stdout",
     "output_type": "stream",
     "text": [
      "Dipesh, you will turn 100 years old in the year 2104.\n"
     ]
    }
   ],
   "source": [
    "# Write a Python Program that asks the user to enter their name and their age. Print out a message addressed to them that tells them the year that they will turn 100 years old.\n",
    "\n",
    "from datetime import datetime \n",
    "\n",
    "def year_turn_100():\n",
    "    name = input(\"Enter your name:\")\n",
    "    age = int(input(\"Enter your age:\"))\n",
    "    current_year = datetime.now().year\n",
    "    year_turn_100 = current_year + (100 - age)\n",
    "    print(f\"{name}, you will turn 100 years old in the year {year_turn_100}.\")\n",
    "\n",
    "year_turn_100()"
   ]
  },
  {
   "cell_type": "code",
   "execution_count": 1,
   "id": "a5b6114e",
   "metadata": {},
   "outputs": [
    {
     "name": "stdout",
     "output_type": "stream",
     "text": [
      "The digit in words is: four\n"
     ]
    }
   ],
   "source": [
    "# Write a Python Program to accept a numeric digit from keyboard and display it in words\n",
    "\n",
    "def digit_to_words():\n",
    "    num = int(input(\"Enter a digit (0-9): \"))\n",
    "    words = {\n",
    "        0: \"zero\",\n",
    "        1: \"one\",\n",
    "        2: \"two\",\n",
    "        3: \"three\",\n",
    "        4: \"four\",\n",
    "        5: \"five\",\n",
    "        6: \"six\",\n",
    "        7: \"seven\",\n",
    "        8: \"eight\",\n",
    "        9: \"nine\"\n",
    "    }\n",
    "    print(f\"The digit in words is: {words.get(num, 'Invalid digit')}\")\n",
    "\n",
    "digit_to_words()\n"
   ]
  },
  {
   "cell_type": "code",
   "execution_count": 2,
   "id": "5f4dd259",
   "metadata": {},
   "outputs": [
    {
     "name": "stdout",
     "output_type": "stream",
     "text": [
      "5 is odd.\n"
     ]
    }
   ],
   "source": [
    "# Write a Python Program to accept a number from keyboard and test whether the number is even or odd.\n",
    "\n",
    "def even_or_odd():\n",
    "    num = int (input (\"Enter a number: \"))\n",
    "    if num % 2 == 0:\n",
    "        print(f\"{num} is even.\")\n",
    "    else:\n",
    "        print(f\"{num} is odd.\")\n",
    "\n",
    "even_or_odd()"
   ]
  },
  {
   "cell_type": "code",
   "execution_count": null,
   "id": "e375209d",
   "metadata": {},
   "outputs": [
    {
     "name": "stdout",
     "output_type": "stream",
     "text": [
      "21 is not between 1 and 10.\n"
     ]
    }
   ],
   "source": [
    "# Write a Python Program to test whether a given number is in between 1 and 10. \n",
    "\n",
    "num = int(input(\"Enter a number: \"))\n",
    "if 1 <= num <= 10:\n",
    "    print(f\"{num} is between 1 and 10.\")\n",
    "else :\n",
    "    print(f\"{num} is not between 1 and 10.\")\n"
   ]
  },
  {
   "cell_type": "code",
   "execution_count": 4,
   "id": "33512cdd",
   "metadata": {},
   "outputs": [
    {
     "name": "stdout",
     "output_type": "stream",
     "text": [
      "24 26 28 30 32 34 36 38 40 42 44 "
     ]
    }
   ],
   "source": [
    "# Write a Python Program to display even numbers between m and n.(m and n are user input)\n",
    "\n",
    "m = int(input(\"Enter the starting number (m): \"))\n",
    "n = int(input(\"Enter the ending number (n): \"))\n",
    "\n",
    "for i in range(m, n+1):\n",
    "    if i % 2 == 0:\n",
    "        print (i, end=' ')\n",
    "\n"
   ]
  },
  {
   "cell_type": "code",
   "execution_count": 5,
   "id": "9c9ba97b",
   "metadata": {},
   "outputs": [
    {
     "name": "stdout",
     "output_type": "stream",
     "text": [
      "h e l l o   w h o   a r e   y o u ? "
     ]
    }
   ],
   "source": [
    "# Write a Python Program to display characters of a string using for loop.\n",
    "\n",
    "name = input (\"Enter a string: \")\n",
    "\n",
    "for char in name:\n",
    "    print(char, end=' ')\n",
    "\n"
   ]
  },
  {
   "cell_type": "code",
   "execution_count": 6,
   "id": "ed3cd88f",
   "metadata": {},
   "outputs": [
    {
     "name": "stdout",
     "output_type": "stream",
     "text": [
      "1 3 5 7 9 "
     ]
    }
   ],
   "source": [
    "# Write a Python Program to display odd numbers from 1 to 10 using range().\n",
    "\n",
    "for i in range(1, 11):\n",
    "    if i % 2 != 0:\n",
    "        print(i, end=' ')\n",
    "\n"
   ]
  },
  {
   "cell_type": "code",
   "execution_count": 7,
   "id": "bbcddb19",
   "metadata": {},
   "outputs": [
    {
     "name": "stdout",
     "output_type": "stream",
     "text": [
      "The sum of numbers in list is:  15\n"
     ]
    }
   ],
   "source": [
    "# Write a Python Program to display sum of a list of numbers using loop\n",
    "\n",
    "numbers = [1,2,3,4,5]\n",
    "sum = 0\n",
    "for num in numbers:\n",
    "    sum += num\n",
    "print (\"The sum of numbers in list is: \", sum)"
   ]
  },
  {
   "cell_type": "code",
   "execution_count": 17,
   "id": "a12a6f4e",
   "metadata": {},
   "outputs": [
    {
     "name": "stdout",
     "output_type": "stream",
     "text": [
      "    * \n",
      "\n",
      "   * * \n",
      "\n",
      "  * * * \n",
      "\n",
      " * * * * \n",
      "\n",
      "* * * * * \n",
      "\n"
     ]
    }
   ],
   "source": [
    "# Write a Python Program to display the stars in an equilateral triangular form using a loop.\n",
    "\n",
    "rows = int(input(\"Enter the number of rows: \"))\n",
    "for i in range(1, rows + 1):\n",
    "    print(' ' * (rows - i) + '* ' * i)\n",
    "    print()"
   ]
  },
  {
   "cell_type": "code",
   "execution_count": 1,
   "id": "ad6e7fdd",
   "metadata": {},
   "outputs": [
    {
     "name": "stdout",
     "output_type": "stream",
     "text": [
      "1 2 3 4 5 6 7 8 9 10 11 12 13 14 15 16 17 18 19 20 21 22 23 24 25 26 27 28 29 30 31 32 33 34 35 36 37 38 39 40 41 42 43 44 45 46 47 48 49 50 51 52 53 54 55 56 57 58 59 60 61 62 63 64 65 66 67 68 69 70 71 72 73 74 75 76 77 78 79 80 81 82 83 84 85 86 87 88 89 90 91 92 93 94 95 96 97 98 99 100 "
     ]
    }
   ],
   "source": [
    "# Write a Python Program to display numbers from 1 to 100.\n",
    "\n",
    "for i in range(1, 101):\n",
    "    print(i, end=' ')\n"
   ]
  },
  {
   "cell_type": "code",
   "execution_count": 3,
   "id": "54f8eca9",
   "metadata": {},
   "outputs": [
    {
     "name": "stdout",
     "output_type": "stream",
     "text": [
      "31 is not found in the list.\n"
     ]
    }
   ],
   "source": [
    "# Write a Python Program to search for an element in the list of elements.\n",
    "\n",
    "elements = [10, 20, 30, 40, 50]\n",
    "search_element = int(input(\"Enter the element to search: \"))\n",
    "\n",
    "if search_element in elements:\n",
    "    print(f\"{search_element} is found in the list.\")\n",
    "else:\n",
    "    print(f\"{search_element} is not found in the list.\")\n",
    "\n"
   ]
  },
  {
   "cell_type": "code",
   "execution_count": 6,
   "id": "610cdc1b",
   "metadata": {},
   "outputs": [
    {
     "name": "stdout",
     "output_type": "stream",
     "text": [
      "Prime numbers up to 200 are:\n",
      "2 3 5 7 11 13 17 19 23 29 31 37 41 43 47 53 59 61 67 71 73 79 83 89 97 101 103 107 109 113 127 131 137 139 149 151 157 163 167 173 179 181 191 193 197 199 "
     ]
    }
   ],
   "source": [
    "# Write a Python Program to display prime number series.\n",
    "\n",
    "def is_prime(num):\n",
    "    if num <= 1:\n",
    "        return False\n",
    "    for i in range(2, int(num**0.5) + 1):\n",
    "        if num % i == 0:\n",
    "            return False\n",
    "    return True\n",
    "\n",
    "def prime_series(n):\n",
    "    for i in range(2, n + 1):\n",
    "        if is_prime(i):\n",
    "            print(i, end= ' ')\n",
    "\n",
    "n = int (input(\"Enter the number you want to check for prime series: \"))\n",
    "print(\"Prime numbers up to\", n, \"are:\")\n",
    "prime_series(n)\n"
   ]
  },
  {
   "cell_type": "code",
   "execution_count": 8,
   "id": "46996e64",
   "metadata": {},
   "outputs": [
    {
     "name": "stdout",
     "output_type": "stream",
     "text": [
      "Fibonacci series up to 8 is: \n",
      "0 1 1 2 3 5 8 13 "
     ]
    }
   ],
   "source": [
    "# Write a Python Program to generate Fibonacci number series.\n",
    "\n",
    "n = int (input (\"Enter a number to generate Fibonacci series: \"))\n",
    "print (\"Fibonacci series up to\", n, \"is: \")\n",
    "a, b = 0, 1\n",
    "series = []\n",
    "for _ in range(n):\n",
    "    print(a, end=' ')\n",
    "    a, b = b, a + b\n"
   ]
  },
  {
   "cell_type": "code",
   "execution_count": 9,
   "id": "4eef7a3e",
   "metadata": {},
   "outputs": [
    {
     "name": "stdout",
     "output_type": "stream",
     "text": [
      "Given List: [3, 5, 2, 6, 2, 88, 21]\n",
      "New list: [3, 21]\n"
     ]
    }
   ],
   "source": [
    "# Write a program that takes a list of numbers (for example, a = [5, 10, 15, 20, 25]) and makes a new list of only the first and last elements of the given list. For practice, write this code inside a function.\n",
    "\n",
    "def first_and_Last_elements(a):\n",
    "    if len(a) < 2:\n",
    "        return \"List must contain at least two elements.\"\n",
    "    else:\n",
    "        return [a[0], a[-1]]\n",
    "    \n",
    "ls = [3,5,2,6,2,88,21]\n",
    "print(\"Given List:\", ls)\n",
    "print(\"New list:\", first_and_Last_elements(ls))\n"
   ]
  },
  {
   "cell_type": "code",
   "execution_count": 10,
   "id": "f55f4d11",
   "metadata": {},
   "outputs": [
    {
     "name": "stdout",
     "output_type": "stream",
     "text": [
      "3 6 9 12 15 18 21 24 27 30 33 36 39 42 45 48 "
     ]
    }
   ],
   "source": [
    "# Write a Python Program to use List comprehension to create a list of all numbers between 1 and 50 that are divisible by 3\n",
    "\n",
    "for i in range(1, 51):\n",
    "    if i % 3 == 0:\n",
    "        print(i, end= ' ')\n"
   ]
  },
  {
   "cell_type": "code",
   "execution_count": 11,
   "id": "4099f6ff",
   "metadata": {},
   "outputs": [
    {
     "name": "stdout",
     "output_type": "stream",
     "text": [
      "1 1 2 3 "
     ]
    }
   ],
   "source": [
    "# Take a list, for example this one: a = [1, 1, 2, 3, 5, 8, 13, 21, 34, 55, 89] and write a program that prints all the elements of the list that are less than 5.\n",
    "\n",
    "a = [1, 1, 2, 3, 5, 8, 13, 21, 34, 55, 89]\n",
    "\n",
    "for num in a:\n",
    "    if num < 5:\n",
    "        print(num, end= ' ')\n",
    "    \n"
   ]
  },
  {
   "cell_type": "code",
   "execution_count": null,
   "id": "8bc281a3",
   "metadata": {},
   "outputs": [
    {
     "name": "stdout",
     "output_type": "stream",
     "text": [
      "common elements: [1, 2, 3, 5, 8, 13]\n",
      "\n"
     ]
    }
   ],
   "source": [
    "# Take two lists, say for example these two: a = [1, 1, 2, 3, 5, 8, 13, 21, 34, 55, 89] b = [1, 2, 3, 4, 5, 6, 7, 8, 9, 10, 11, 12, 13] and write a program that returns a list that contains only the elements that are common between the lists (without duplicates). Make sure your program works on two lists of different sizes.\n",
    "\n",
    "a = [1, 1, 2, 3, 5, 8, 13, 21, 34, 55, 89]\n",
    "b = [1, 2, 3, 4, 5, 6, 7, 8, 9, 10, 11, 12, 13]\n",
    "\n",
    "common_elements = list(set(a) & set(b))\n",
    "print(\"common elements:\", common_elements)"
   ]
  },
  {
   "cell_type": "code",
   "execution_count": 13,
   "id": "247d9cb5",
   "metadata": {},
   "outputs": [
    {
     "name": "stdout",
     "output_type": "stream",
     "text": [
      "List after removing duplicates: [1, 2, 3, 4, 5, 9]\n"
     ]
    }
   ],
   "source": [
    "# Write a Python Program (using function) that takes a list and returns a new list that contains all the elements of the first list minus all the duplicates.\n",
    "\n",
    "def remove_duplicates(lst):\n",
    "    return list(set(lst))\n",
    "\n",
    "lst = [1,2,2,4,3,4,5,3,5,1,1,9]\n",
    "print(\"List after removing duplicates:\", remove_duplicates(lst))"
   ]
  },
  {
   "cell_type": "code",
   "execution_count": 18,
   "id": "428a1366",
   "metadata": {},
   "outputs": [
    {
     "name": "stdout",
     "output_type": "stream",
     "text": [
      "Area of the circle: 3.141592653589793\n",
      "Perimeter of the circle: 6.283185307179586\n"
     ]
    }
   ],
   "source": [
    "# Write a Python class named Circle constructed by a radius and two methods which will compute the area and the perimeter of a circle.\n",
    "\n",
    "import math\n",
    "\n",
    "class Circle:\n",
    "    def __init__(self, radius):\n",
    "        self.radius = radius\n",
    "    def area(self):\n",
    "        return math.pi * (self.radius ** 2)\n",
    "    def perimeter(self):\n",
    "        return 2 * math.pi * self.radius\n",
    "    \n",
    "circle = Circle(1)\n",
    "print(\"Area of the circle:\", circle.area())\n",
    "print(\"Perimeter of the circle:\", circle.perimeter())\n"
   ]
  },
  {
   "cell_type": "code",
   "execution_count": 20,
   "id": "7c5ebc69",
   "metadata": {},
   "outputs": [
    {
     "name": "stdout",
     "output_type": "stream",
     "text": [
      "Area of the rectangle: 15\n"
     ]
    }
   ],
   "source": [
    "# Write a Python class named Rectangle constructed by a length and width and a method which will compute the area of a rectangle.\n",
    "\n",
    "class Rectangle:\n",
    "    def __init__ (self, length, width):\n",
    "        self.length = length\n",
    "        self.width = width\n",
    "    \n",
    "    def area(self):\n",
    "        return self.length * self.width\n",
    "    \n",
    "rect = Rectangle(5,3)\n",
    "print(\"Area of the rectangle:\", rect.area())\n"
   ]
  },
  {
   "cell_type": "code",
   "execution_count": 21,
   "id": "3255eab3",
   "metadata": {},
   "outputs": [
    {
     "name": "stdout",
     "output_type": "stream",
     "text": [
      "Reversed String: .py hello\n"
     ]
    }
   ],
   "source": [
    "# Write a Python class to reverse a string word by word. • Input string: 'hello .py' • Expected Output: '.py hello'\n",
    "\n",
    "class StringReverser:\n",
    "    def __init__(self, inp):\n",
    "        self.inp = inp\n",
    "        self.out = self.reverse_string()\n",
    "    \n",
    "    def reverse_string(self):\n",
    "        words = self.inp.split()\n",
    "        reversed_words = words[::-1]\n",
    "        return ' '.join(reversed_words)\n",
    "    \n",
    "inp = 'hello .py'\n",
    "reverser = StringReverser(inp)\n",
    "print(\"Reversed String:\", reverser.out)\n",
    "\n"
   ]
  },
  {
   "cell_type": "code",
   "execution_count": 24,
   "id": "7233ea6e",
   "metadata": {},
   "outputs": [
    {
     "name": "stdout",
     "output_type": "stream",
     "text": [
      "Ram: 5\n",
      "Shyam: 2\n",
      "Krishna: 5\n",
      "Radha: 1\n"
     ]
    }
   ],
   "source": [
    "# Given a .txt file that has a list of names, count how many times each name occurred in the file, and print out the results to the screen.\n",
    "\n",
    "def count_names(filename):\n",
    "    try:\n",
    "        with open(filename, 'r') as file:\n",
    "            names = file.readlines()\n",
    "            name_count = {}\n",
    "            for name in names:\n",
    "                name = name.strip()\n",
    "                if name in name_count:\n",
    "                    name_count[name] += 1\n",
    "                else:\n",
    "                    name_count[name] = 1\n",
    "            for name, count in name_count.items():\n",
    "                print(f\"{name}: {count}\")\n",
    "        \n",
    "    except FileNotFoundError:\n",
    "        print(f\"The file {filename} does not exist.\")\n",
    "    except Exception as e:\n",
    "        print(f\"An error occurred: {e}\")\n",
    "    \n",
    "count_names('names.txt')"
   ]
  },
  {
   "cell_type": "code",
   "execution_count": 25,
   "id": "53bdf14f",
   "metadata": {},
   "outputs": [],
   "source": [
    "# Write a Python program to remove newline characters from a file.\n",
    "\n",
    "def remove_newlines(filename):\n",
    "    try:\n",
    "        with open(filename, 'r') as file:\n",
    "            content = file.read()\n",
    "            content = content.replace('\\n', ' ')\n",
    "        with open(filename, 'w') as file:\n",
    "            file.write(content)\n",
    "    except FileNotFoundError:\n",
    "        print(f\"The file {filename} does not exist.\")\n",
    "    except Exception as e:\n",
    "        print(f\"An error occurred: {e}\")\n",
    "\n",
    "remove_newlines('example.txt')"
   ]
  },
  {
   "cell_type": "code",
   "execution_count": 26,
   "id": "b8ac84f0",
   "metadata": {},
   "outputs": [],
   "source": [
    "# Write a Python program to combine each line from first file with the corresponding line in second file and write the result to a new file.\n",
    "\n",
    "def combine_files(file1, file2, output_file):\n",
    "    try:\n",
    "        with open(file1, 'r') as f1, open(file2, 'r') as f2, open(output_file, 'w') as out:\n",
    "            for line1, line2 in zip(f1, f2):\n",
    "                out.write(line1.strip() + ' ' + line2.strip() + '\\n')\n",
    "    except FileNotFoundError as e:\n",
    "        print(f\"Error: {e}\")\n",
    "    except Exception as e:\n",
    "        print(f\"An error occurred: {e}\")\n",
    "    \n",
    "combine_files('file1.txt', 'file2.txt', 'output.txt')"
   ]
  },
  {
   "cell_type": "code",
   "execution_count": 27,
   "id": "6a3169af",
   "metadata": {},
   "outputs": [
    {
     "name": "stdout",
     "output_type": "stream",
     "text": [
      "File copied successfully.\n"
     ]
    }
   ],
   "source": [
    "# Write a Python program to copy the contents of a file to another file without function\n",
    "\n",
    "with open('file1.txt', 'r') as source_file:\n",
    "    content = source_file.read()\n",
    "    with open('file2.txt', 'w') as dest_file:\n",
    "        dest_file.write(content)\n",
    "        print(\"File copied successfully.\")\n",
    "\n"
   ]
  },
  {
   "cell_type": "code",
   "execution_count": 28,
   "id": "9a9a5fb0",
   "metadata": {},
   "outputs": [
    {
     "name": "stdout",
     "output_type": "stream",
     "text": [
      "Name: John Doe, Age: 20, Grade: A\n"
     ]
    }
   ],
   "source": [
    "# Write a Python Program to define Student class and create an object to it. Also, we will call the method and display the student’s details.\n",
    "\n",
    "class Student:\n",
    "    def __init__ (self, name, age, grade):\n",
    "        self.name = name\n",
    "        self.age = age\n",
    "        self.grade = grade\n",
    "    def display_details(self):\n",
    "        print(f\"Name: {self.name}, Age: {self.age}, Grade: {self.grade}\")\n",
    "    \n",
    "stud = Student(\"John Doe\", 20, \"A\")\n",
    "stud.display_details()\n"
   ]
  },
  {
   "cell_type": "code",
   "execution_count": null,
   "id": "bd91eadd",
   "metadata": {},
   "outputs": [],
   "source": [
    "# Write a Python Program to create a static method that counts the number of instances created for a class.\n",
    "\n",
    "class InstanceCounter:\n",
    "    count = 0\n",
    "\n",
    "    def __init__ (self):\n",
    "        InstanceCounter.count += 1\n",
    "    @staticmethod\n",
    "    def get_count():\n",
    "        return InstanceCounter.count\n",
    "    def __str__(self):\n",
    "        return f\"Instance count: {InstanceCounter.get_count()}\"\n",
    "    \n",
    "counter1 = InstanceCounter()\n",
    "counter2 = InstanceCounter()\n",
    "print(counter1)\n",
    "print(counter2)\n",
    "print(\"Total instances created:\", InstanceCounter.get_count())\n"
   ]
  },
  {
   "cell_type": "code",
   "execution_count": 30,
   "id": "558de16c",
   "metadata": {},
   "outputs": [
    {
     "name": "stdout",
     "output_type": "stream",
     "text": [
      "Deposited: 500, New Balance: 1500\n",
      "Withdrawn: 200, New Balance: 1300\n",
      "Insufficient funds\n"
     ]
    }
   ],
   "source": [
    "# Write a Python Program to create a Bank class where deposits and withdraw can be handled by using instance methods.\n",
    "\n",
    "class Bank:\n",
    "    def __init__(self, balance=0):\n",
    "        self.balance = balance\n",
    "    \n",
    "    def deposit(self, amount):\n",
    "        self.balance += amount\n",
    "        print(f\"Deposited: {amount}, New Balance: {self.balance}\")\n",
    "    \n",
    "    def withdraw(self, amount):\n",
    "        if amount > self.balance:\n",
    "            print(\"Insufficient funds\")\n",
    "        else:\n",
    "            self.balance -= amount\n",
    "            print(f\"Withdrawn: {amount}, New Balance: {self.balance}\")\n",
    "\n",
    "    def get_balance(self):\n",
    "        return self.balance    \n",
    "    \n",
    "bank = Bank(1000)\n",
    "bank.deposit(500)\n",
    "bank.withdraw(200)\n",
    "bank.withdraw(1500)\n"
   ]
  },
  {
   "cell_type": "code",
   "execution_count": 31,
   "id": "c8dfe72d",
   "metadata": {},
   "outputs": [
    {
     "name": "stdout",
     "output_type": "stream",
     "text": [
      "Dog barks\n",
      "Cat meows\n"
     ]
    }
   ],
   "source": [
    "# Write a Python Program showing single inheritance in which two sub classes are derived from a single base class.\n",
    "\n",
    "class Animal:\n",
    "    def speak(self):\n",
    "        return \"Animal speaks\"\n",
    "    \n",
    "class Dog(Animal):\n",
    "    def speak (self):\n",
    "        return \"Dog barks\"\n",
    "\n",
    "class Cat (Animal):\n",
    "    def speak (self):\n",
    "        return \"Cat meows\"\n",
    "\n",
    "dog = Dog()\n",
    "cat = Cat()\n",
    "print(dog.speak())\n",
    "print(cat.speak())"
   ]
  },
  {
   "cell_type": "code",
   "execution_count": 32,
   "id": "d6f65ed1",
   "metadata": {},
   "outputs": [
    {
     "name": "stdout",
     "output_type": "stream",
     "text": [
      "Method from Base1\n",
      "Method from Base2\n",
      "Method from Derived\n"
     ]
    }
   ],
   "source": [
    "# Write a Python Program to implement multiple inheritance using two base classes.\n",
    "\n",
    "class Base1:\n",
    "    def method1(self):\n",
    "        return \"Method from Base1\"\n",
    "\n",
    "class Base2:\n",
    "    def method2(self):\n",
    "        return \"Method from Base2\"\n",
    "\n",
    "class Derived(Base1, Base2):\n",
    "    def method3(self):\n",
    "        return \"Method from Derived\"\n",
    "    \n",
    "derived = Derived()\n",
    "print(derived.method1())\n",
    "print(derived.method2())\n",
    "print(derived.method3())    "
   ]
  },
  {
   "cell_type": "code",
   "execution_count": 36,
   "id": "be03fb6d",
   "metadata": {},
   "outputs": [
    {
     "name": "stdout",
     "output_type": "stream",
     "text": [
      "30\n",
      "60\n"
     ]
    }
   ],
   "source": [
    "# Write a Python Program to show method overloading to find sum of two or three numbers.\n",
    "\n",
    "class Sum:\n",
    "    def add(self, a, b, c=None):\n",
    "        if c is None:\n",
    "            return a + b\n",
    "        else:\n",
    "            return a + b + c\n",
    "\n",
    "sum_instance = Sum()\n",
    "print(sum_instance.add(10, 20))  # Output: 30\n",
    "print(sum_instance.add(10, 20, 30))  # Output: 60\n"
   ]
  },
  {
   "cell_type": "code",
   "execution_count": 38,
   "id": "ad9d27e0",
   "metadata": {},
   "outputs": [
    {
     "name": "stdout",
     "output_type": "stream",
     "text": [
      "3x3 numpy array of all True's:\n",
      "[[ True  True  True]\n",
      " [ True  True  True]\n",
      " [ True  True  True]]\n"
     ]
    }
   ],
   "source": [
    "# Write a Python Program to Create a 3×3 numpy array of all True’s\n",
    "\n",
    "import numpy as np\n",
    "\n",
    "array = np.full((3, 3), True)\n",
    "print(\"3x3 numpy array of all True's:\")\n",
    "print(array)\n"
   ]
  },
  {
   "cell_type": "code",
   "execution_count": 39,
   "id": "0ef2e56f",
   "metadata": {},
   "outputs": [
    {
     "name": "stdout",
     "output_type": "stream",
     "text": [
      "[0, -1, 2, -1, 4, -1, 6, -1, 8, -1]\n"
     ]
    }
   ],
   "source": [
    "# Write a Python Program to Replace all odd numbers in arr with -1\n",
    "# a. Input ([0, 1, 2, 3, 4, 5, 6, 7, 8, 9])\n",
    "\n",
    "arr = [0, 1, 2, 3, 4, 5, 6, 7, 8, 9]\n",
    "for i in range(len(arr)):\n",
    "    if arr[i] % 2 != 0:\n",
    "        arr[i] = -1\n",
    "\n",
    "print(arr)"
   ]
  },
  {
   "cell_type": "code",
   "execution_count": 1,
   "id": "dca72cd4",
   "metadata": {},
   "outputs": [
    {
     "name": "stdout",
     "output_type": "stream",
     "text": [
      "[[0 1 2 3 4]\n",
      " [5 6 7 8 9]]\n"
     ]
    }
   ],
   "source": [
    "# Write a Python Program to convert a 1D array to a 2D array with 2 rows\n",
    "# a. Input: np. arrange (10)\n",
    "\n",
    "import numpy as np\n",
    "\n",
    "arr = np.arange(10)\n",
    "reshaped_array = arr.reshape(2, -1)\n",
    "print(reshaped_array)  \n"
   ]
  },
  {
   "cell_type": "code",
   "execution_count": 44,
   "id": "a57f6064",
   "metadata": {},
   "outputs": [
    {
     "name": "stdout",
     "output_type": "stream",
     "text": [
      "[2 4]\n"
     ]
    }
   ],
   "source": [
    "# Write a Python Program to get the common items between a and b\n",
    "# Input:\n",
    "# a = np. array ([1,2,3,2,3,4,3,4,5,6])\n",
    "# b = np. array ([7,2,10,2,7,4,9,4,9,8])\n",
    "# Desired Output:\n",
    "# array ([2, 4])\n",
    "\n",
    "\n",
    "import numpy as np\n",
    "a = np.array ([1,2,3,2,3,4,3,4,5,6])\n",
    "b = np.array ([7,2,10,2,7,4,9,4,9,8])\n",
    "\n",
    "common_items = np.intersect1d(a, b)\n",
    "print(common_items)  "
   ]
  },
  {
   "cell_type": "code",
   "execution_count": 45,
   "id": "0c2730c7",
   "metadata": {},
   "outputs": [
    {
     "name": "stdout",
     "output_type": "stream",
     "text": [
      "GS1@e9!r8;\n"
     ]
    }
   ],
   "source": [
    "# Write a programme, which generates a random password for the user. Ask the user how long they want their password to be, and how many letters and numbers they want in their password. Have a mix of upper and lowercase letters, as well as numbers and symbols. The password should be a minimum of 6 characters long\n",
    "\n",
    "import random\n",
    "import string\n",
    "\n",
    "def generate_password():\n",
    "    length = int(input(\"How long would you like your password to be? \"))\n",
    "    letters = int(input(\"How many letters would you like in your password? \"))\n",
    "    numbers = int(input(\"How many numbers would you like in your password? \"))\n",
    "\n",
    "    symbols = length - (letters + numbers)\n",
    "    if symbols < 0:\n",
    "        print(\"The total length must be at least the sum of letters and numbers.\")\n",
    "        return \n",
    "    if length < 6:\n",
    "        print(\"Password must be at least 6 characters long.\")\n",
    "        return\n",
    "    \n",
    "    if letters + numbers == 0:\n",
    "        print(\"Password must have at least one letter and one number.\")\n",
    "        return\n",
    "    \n",
    "    password = ''.join(random.choices(string.ascii_letters, k=letters)) + \\\n",
    "               ''.join(random.choices(string.digits, k=numbers)) + \\\n",
    "            ''.join(random.choices(string.punctuation, k=symbols))\n",
    "    password = ''.join(random.sample(password, len(password)))  # Shuffle the password\n",
    "    return password\n",
    "\n",
    "print(generate_password())\n"
   ]
  }
 ],
 "metadata": {
  "kernelspec": {
   "display_name": "Python 3",
   "language": "python",
   "name": "python3"
  },
  "language_info": {
   "codemirror_mode": {
    "name": "ipython",
    "version": 3
   },
   "file_extension": ".py",
   "mimetype": "text/x-python",
   "name": "python",
   "nbconvert_exporter": "python",
   "pygments_lexer": "ipython3",
   "version": "3.13.5"
  }
 },
 "nbformat": 4,
 "nbformat_minor": 5
}
